{
 "cells": [
  {
   "cell_type": "code",
   "execution_count": 16,
   "id": "31196acb-117d-4ed5-9bf0-085a5cd017d8",
   "metadata": {},
   "outputs": [],
   "source": [
    "# Reverse a singly linked list.  Input: 1 -> 2 -> 3 -> 4 -> 5 ;  Output: 5 -> 4 -> 3 -> 2 -> 1"
   ]
  },
  {
   "cell_type": "code",
   "execution_count": 17,
   "id": "ad9176ec-adb0-455c-9cd0-23c31728e5ce",
   "metadata": {},
   "outputs": [
    {
     "name": "stdout",
     "output_type": "stream",
     "text": [
      "Input: 1->2->3->4->5-> Output: 5->4->3->2->1->"
     ]
    }
   ],
   "source": [
    "class Node:\n",
    "    def __init__(self,data=0,next=None):\n",
    "        self.data=data\n",
    "        self.next=next\n",
    "        \n",
    "def reverse_list(head):\n",
    "    prev=None\n",
    "    current=head\n",
    "    \n",
    "    while current:\n",
    "        next_node=current.next\n",
    "        current.next=prev\n",
    "        prev=current\n",
    "        current=next_node\n",
    "        \n",
    "    return prev\n",
    "\n",
    "def print_list(head):\n",
    "    current=head\n",
    "    while current:\n",
    "        print(current.data,end=\"->\")\n",
    "        current =current.next\n",
    "        \n",
    "        \n",
    "head=Node(1)\n",
    "head.next=Node(2)\n",
    "head.next.next=Node(3)\n",
    "head.next.next.next=Node(4)\n",
    "head.next.next.next.next=Node(5)\n",
    "\n",
    "print(\"Input:\",end=\" \")\n",
    "print_list(head)\n",
    "\n",
    "reverse_head=reverse_list(head)\n",
    "\n",
    "print(\" Output:\",end=\" \")\n",
    "print_list(reverse_head)"
   ]
  },
  {
   "cell_type": "code",
   "execution_count": null,
   "id": "b2bf734c-b0da-402a-a2cc-a6cac85250ff",
   "metadata": {},
   "outputs": [],
   "source": []
  },
  {
   "cell_type": "code",
   "execution_count": 18,
   "id": "be6a063c-a983-47a8-8e76-17d2eaaa041a",
   "metadata": {},
   "outputs": [],
   "source": [
    "# Merge two sorted linked lists into one sorted linked list. Input: List 1: 1 -> 3 -> 5, List 2: 2 -> 4 -> 6 ; Output: 1 -> 2 -> 3 -> 4 -> 5 -> 6"
   ]
  },
  {
   "cell_type": "code",
   "execution_count": 19,
   "id": "ecf9fc6d-378a-478a-8239-a6aede8a199f",
   "metadata": {},
   "outputs": [
    {
     "name": "stdout",
     "output_type": "stream",
     "text": [
      "1-2-3-4-5-6\n"
     ]
    }
   ],
   "source": [
    "def sort_list(list1,list2):\n",
    "    merge_list=[]\n",
    "    i=j=0\n",
    "    \n",
    "    while i<len(list1) and j<len(list2):\n",
    "        if list1[i]<list2[j]:\n",
    "            merge_list.append(list1[i])\n",
    "            i+=1\n",
    "            \n",
    "        else:\n",
    "            merge_list.append(list2[j])\n",
    "            j+=1\n",
    "            \n",
    "    while i<len(list1):\n",
    "        merge_list.append(list1[i])\n",
    "        i+=1\n",
    "    \n",
    "    while j<len(list2):\n",
    "        merge_list.append(list2[j])\n",
    "        j+=1\n",
    "        \n",
    "        \n",
    "    return merge_list\n",
    "\n",
    "\n",
    "\n",
    "list1=[1,3,5]\n",
    "list2=[2,4,6]\n",
    "\n",
    "merge_list=sort_list(list1,list2)\n",
    "\n",
    "print(\"-\".join(map(str,merge_list)))"
   ]
  },
  {
   "cell_type": "code",
   "execution_count": null,
   "id": "c6d177fe-3c16-4c48-bd27-16cd046e8fae",
   "metadata": {},
   "outputs": [],
   "source": []
  },
  {
   "cell_type": "code",
   "execution_count": 20,
   "id": "b761218e-5fba-4a10-a8ed-1e6fc0fdba57",
   "metadata": {},
   "outputs": [],
   "source": [
    "# Remove the nth node from the end of a linked list. Input: 1 -> 2 -> 3 -> 4 -> 5, n = 2 ;Output: 1 -> 2 -> 3 -> 5"
   ]
  },
  {
   "cell_type": "code",
   "execution_count": 21,
   "id": "5ea42484-7d23-4db7-b3db-07423c2aae40",
   "metadata": {},
   "outputs": [
    {
     "name": "stdout",
     "output_type": "stream",
     "text": [
      "Input 1 2 3 4 5  Output 1 2 3 5 "
     ]
    }
   ],
   "source": [
    "class Link:\n",
    "    def __init__(self,data=0,next=None):\n",
    "        self.data=data\n",
    "        self.next=next\n",
    "        \n",
    "def function(head,n):\n",
    "    char=Link(0)\n",
    "    char.next=head\n",
    "    prev=char\n",
    "    curr=char\n",
    "    \n",
    "    for i in range(n+1):\n",
    "        prev=prev.next\n",
    "        \n",
    "    while prev is not None:\n",
    "        prev=prev.next\n",
    "        curr=curr.next\n",
    "        \n",
    "    curr.next=curr.next.next\n",
    "    \n",
    "    return char.next\n",
    "\n",
    "def link_list(head):\n",
    "    value=head\n",
    "    while value:\n",
    "        print(value.data,end=\" \")\n",
    "        value=value.next\n",
    "        \n",
    "        \n",
    "head=Link(1)\n",
    "head.next=Link(2)\n",
    "head.next.next=Link(3)\n",
    "head.next.next.next=Link(4)\n",
    "head.next.next.next.next=Link(5)\n",
    "\n",
    "print(\"Input\", end=\" \")\n",
    "link_list(head)\n",
    "\n",
    "n=2\n",
    "head=function(head,n)\n",
    "\n",
    "print(\" Output\",end=\" \")\n",
    "link_list(head)\n",
    "    "
   ]
  },
  {
   "cell_type": "code",
   "execution_count": null,
   "id": "8c3ab294-0992-4967-b7c3-8ee413193263",
   "metadata": {},
   "outputs": [],
   "source": []
  },
  {
   "cell_type": "code",
   "execution_count": null,
   "id": "3f6abb1d-90bd-4d8e-814e-07bdb9bb037c",
   "metadata": {},
   "outputs": [],
   "source": []
  },
  {
   "cell_type": "code",
   "execution_count": null,
   "id": "d48defaf-857c-46ab-bba3-e36670cb2620",
   "metadata": {},
   "outputs": [],
   "source": []
  }
 ],
 "metadata": {
  "kernelspec": {
   "display_name": "Python 3 (ipykernel)",
   "language": "python",
   "name": "python3"
  },
  "language_info": {
   "codemirror_mode": {
    "name": "ipython",
    "version": 3
   },
   "file_extension": ".py",
   "mimetype": "text/x-python",
   "name": "python",
   "nbconvert_exporter": "python",
   "pygments_lexer": "ipython3",
   "version": "3.10.8"
  }
 },
 "nbformat": 4,
 "nbformat_minor": 5
}
